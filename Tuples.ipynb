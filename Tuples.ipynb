{
 "cells": [
  {
   "cell_type": "markdown",
   "id": "a05244d9",
   "metadata": {},
   "source": [
    "## Tuples\n"
   ]
  },
  {
   "cell_type": "markdown",
   "id": "c10f0a9b",
   "metadata": {},
   "source": [
    "### 1.Tuples are Immutable\n",
    "\n",
    "  Tuples is a sequence of values.Values can be of any type.Tuple almost same like a list.But the imporatant difference between Tuple and List is,Tuples are immutable that means the value present in the tuples cannot be changed or modified"
   ]
  },
  {
   "cell_type": "code",
   "execution_count": 5,
   "id": "10e41357",
   "metadata": {},
   "outputs": [
    {
     "name": "stdout",
     "output_type": "stream",
     "text": [
      "('san', 'Nila', 'Arun')\n"
     ]
    }
   ],
   "source": [
    "#Tuples is comma seperated values\n",
    "t= 'san','Nila','Arun'\n",
    "print(t)\n",
    "\n"
   ]
  },
  {
   "cell_type": "code",
   "execution_count": 4,
   "id": "083979a9",
   "metadata": {},
   "outputs": [
    {
     "name": "stdout",
     "output_type": "stream",
     "text": [
      "('san', 'Nila', 'Arun')\n"
     ]
    }
   ],
   "source": [
    "#It is not Necseeary to encolse tuples ,but in comman we will do\n",
    "t= ('san','Nila','Arun')\n",
    "print(t)"
   ]
  },
  {
   "cell_type": "code",
   "execution_count": 6,
   "id": "a1ed3212",
   "metadata": {},
   "outputs": [
    {
     "name": "stdout",
     "output_type": "stream",
     "text": [
      "<class 'tuple'>\n"
     ]
    }
   ],
   "source": [
    "print(type(t))"
   ]
  },
  {
   "cell_type": "code",
   "execution_count": 10,
   "id": "1e2fc944",
   "metadata": {},
   "outputs": [
    {
     "name": "stdout",
     "output_type": "stream",
     "text": [
      "Nila\n",
      "<class 'str'>\n"
     ]
    }
   ],
   "source": [
    "s=t[1]\n",
    "print(s)\n",
    "print(type(s))"
   ]
  },
  {
   "cell_type": "code",
   "execution_count": 11,
   "id": "66da66fe",
   "metadata": {},
   "outputs": [
    {
     "name": "stdout",
     "output_type": "stream",
     "text": [
      "('Nila',)\n"
     ]
    }
   ],
   "source": [
    "print(t[1:2])"
   ]
  },
  {
   "cell_type": "code",
   "execution_count": 12,
   "id": "ad18f53e",
   "metadata": {},
   "outputs": [
    {
     "name": "stdout",
     "output_type": "stream",
     "text": [
      "('san', 'Nila')\n"
     ]
    }
   ],
   "source": [
    "print(t[0:2])"
   ]
  },
  {
   "cell_type": "code",
   "execution_count": 16,
   "id": "36593471",
   "metadata": {},
   "outputs": [
    {
     "name": "stdout",
     "output_type": "stream",
     "text": [
      "('Varun', 'san', 'Nila', 'Arun')\n"
     ]
    }
   ],
   "source": [
    "#cant modify the elements of tuple,but we can replace one tuple with another\n",
    "s=('Varun',)+t[0:]\n",
    "print(s)\n"
   ]
  },
  {
   "cell_type": "markdown",
   "id": "56472e87",
   "metadata": {},
   "source": [
    "### 2.Tuple Assignment"
   ]
  },
  {
   "cell_type": "code",
   "execution_count": 18,
   "id": "092a253e",
   "metadata": {},
   "outputs": [
    {
     "name": "stdout",
     "output_type": "stream",
     "text": [
      "Now a is: 5\n",
      "Now b is : 6\n"
     ]
    }
   ],
   "source": [
    "#we can easily swap the variable in tuple by doing this\n",
    "a=6\n",
    "b=5\n",
    "a,b=b,a\n",
    "print(\"Now a is:\",a)\n",
    "print(\"Now b is :\",b)"
   ]
  },
  {
   "cell_type": "code",
   "execution_count": 21,
   "id": "d1290928",
   "metadata": {},
   "outputs": [
    {
     "name": "stdout",
     "output_type": "stream",
     "text": [
      "KSandhiya484\n",
      "gmil.com\n"
     ]
    }
   ],
   "source": [
    "#Left side is tuple of variables and Right side is Tuple of Values\n",
    "Email_Id = \"KSandhiya484@gmil.com\"\n",
    "User_Name,Domain = Email_Id.split('@')\n",
    "print(User_Name)\n",
    "print(Domain)"
   ]
  },
  {
   "cell_type": "markdown",
   "id": "63f972ce",
   "metadata": {},
   "source": [
    "### 3.Return Values"
   ]
  },
  {
   "cell_type": "code",
   "execution_count": 22,
   "id": "accbe997",
   "metadata": {},
   "outputs": [
    {
     "name": "stdout",
     "output_type": "stream",
     "text": [
      "(2, 2)\n"
     ]
    }
   ],
   "source": [
    "t = divmod(8,3)\n",
    "print(t)"
   ]
  },
  {
   "cell_type": "code",
   "execution_count": 23,
   "id": "b0b9dedf",
   "metadata": {},
   "outputs": [
    {
     "name": "stdout",
     "output_type": "stream",
     "text": [
      "the qoutient is: 2\n",
      "The remainder is : 2\n"
     ]
    }
   ],
   "source": [
    "quot,rem = divmod(8,3)\n",
    "print(\"the qoutient is:\",quot)\n",
    "print(\"The remainder is :\",rem)"
   ]
  },
  {
   "cell_type": "code",
   "execution_count": 25,
   "id": "b72ddf23",
   "metadata": {},
   "outputs": [
    {
     "data": {
      "text/plain": [
       "(3, 5)"
      ]
     },
     "execution_count": 25,
     "metadata": {},
     "output_type": "execute_result"
    }
   ],
   "source": [
    "def min_max(t):\n",
    "    return min(t),max(t)\n",
    "min_max((5,3))"
   ]
  },
  {
   "cell_type": "markdown",
   "id": "b58287b2",
   "metadata": {},
   "source": [
    "### 4.Lists and Tuples "
   ]
  },
  {
   "cell_type": "code",
   "execution_count": 31,
   "id": "b1942435",
   "metadata": {},
   "outputs": [
    {
     "name": "stdout",
     "output_type": "stream",
     "text": [
      "Names and Marks are:\n",
      "[('Sandy', 98), ('Shiva', 99), ('Keerthana', 97), ('devi', 97)]\n"
     ]
    }
   ],
   "source": [
    "Names = [\"Sandy\",\"Shiva\",\"Keerthana\",\"devi\"]\n",
    "marks = [98,99,97,97]\n",
    "print(\"Names and Marks are:\")\n",
    "list_of_names = zip(Names,marks)\n",
    "\n",
    "print(list(list_of_names))"
   ]
  },
  {
   "cell_type": "code",
   "execution_count": 32,
   "id": "c168474e",
   "metadata": {},
   "outputs": [
    {
     "data": {
      "text/plain": [
       "[('a', 0), ('b', 1), ('c', 2)]"
      ]
     },
     "execution_count": 32,
     "metadata": {},
     "output_type": "execute_result"
    }
   ],
   "source": [
    "s= 'abc'\n",
    "t = [0,1,2]\n",
    "list(zip(s,t))"
   ]
  },
  {
   "cell_type": "code",
   "execution_count": 34,
   "id": "b096ec4e",
   "metadata": {},
   "outputs": [
    {
     "name": "stdout",
     "output_type": "stream",
     "text": [
      "Names and Marks are:\n",
      "Sandy 98\n",
      "Shiva 99\n",
      "Keerthana 97\n",
      "devi 97\n"
     ]
    }
   ],
   "source": [
    "Names = [\"Sandy\",\"Shiva\",\"Keerthana\",\"devi\"]\n",
    "marks = [98,99,97,97]\n",
    "print(\"Names and Marks are:\")\n",
    "list_of_names = zip(Names,marks)\n",
    "for names,marks in list_of_names:\n",
    "    print(names,marks)"
   ]
  },
  {
   "cell_type": "code",
   "execution_count": 44,
   "id": "c0d560b3",
   "metadata": {},
   "outputs": [
    {
     "name": "stdout",
     "output_type": "stream",
     "text": [
      "True\n",
      "False\n",
      "True\n",
      "False\n"
     ]
    }
   ],
   "source": [
    "def has_match(t1,t2):\n",
    "    for element_in_t1,element_in_t2 in zip(t1,t2):\n",
    "        if element_in_t1 == element_in_t2:\n",
    "            return True\n",
    "    return False\n",
    "print(has_match((6,4,5),(6,7,8)))\n",
    "print(has_match((3,4,5),(5,7,8)))\n",
    "print(has_match((3,4,3),(6,4,8)))\n",
    "print(has_match((3,1,5),(6,7,8)))"
   ]
  },
  {
   "cell_type": "code",
   "execution_count": 46,
   "id": "855c82bc",
   "metadata": {},
   "outputs": [
    {
     "name": "stdout",
     "output_type": "stream",
     "text": [
      "0 s\n",
      "1 a\n",
      "2 n\n",
      "3 d\n",
      "4 y\n"
     ]
    }
   ],
   "source": [
    "#enmureate buit in function will be used in suituation like, you need to travesre through index\n",
    "for index,elem in enumerate(\"sandy\"):\n",
    "    print(index,elem)"
   ]
  },
  {
   "cell_type": "code",
   "execution_count": 47,
   "id": "435e19f7",
   "metadata": {},
   "outputs": [
    {
     "name": "stdout",
     "output_type": "stream",
     "text": [
      "dict_items([('Sandy', 78), ('Rudra', 79)])\n"
     ]
    }
   ],
   "source": [
    "#Dictionaries have a method called items that returns a list of tuples, where each tuple is a key-value pair.\n",
    "Dict  = {\"Sandy\":78,\"Rudra\":79}\n",
    "t = Dict.items()\n",
    "print(t)"
   ]
  },
  {
   "cell_type": "code",
   "execution_count": 49,
   "id": "bb9e0c21",
   "metadata": {},
   "outputs": [
    {
     "name": "stdout",
     "output_type": "stream",
     "text": [
      "{'sandy': 7, 'rudra': 8, 'mai': 10}\n"
     ]
    }
   ],
   "source": [
    "#We can use tuples create a new dictoionary\n",
    "tup = [('sandy',7),('rudra',8),('mai',10)]\n",
    "New_dict = dict(tup)\n",
    "print(New_dict)"
   ]
  },
  {
   "cell_type": "code",
   "execution_count": 54,
   "id": "9180e1dc",
   "metadata": {},
   "outputs": [
    {
     "name": "stdout",
     "output_type": "stream",
     "text": [
      "{'s': 0, 'a': 1, 'n': 2, 'd': 3, 'y': 4}\n"
     ]
    }
   ],
   "source": [
    "#dict with zip yields a concise way to create a dictionary:\n",
    "d = dict(zip('sandy',range(len(\"sandy\"))))\n",
    "print(d)"
   ]
  },
  {
   "cell_type": "code",
   "execution_count": 56,
   "id": "2c734306",
   "metadata": {},
   "outputs": [
    {
     "name": "stdout",
     "output_type": "stream",
     "text": [
      "{'a': 0, 'b': 1, 'c': 2}\n"
     ]
    }
   ],
   "source": [
    "d = dict(zip('abc', range(3)))\n",
    "print(d)"
   ]
  },
  {
   "cell_type": "markdown",
   "id": "f94c2d1c",
   "metadata": {},
   "source": [
    "### 5.Comapring Tuples \n",
    "  The relational operators work with tuples and other sequences; Python starts by comparing\n",
    "the first element from each sequence. If they are equal, it goes on to the next elements, and\n",
    "so on, until it finds elements that differ. Subsequent elements are not considered (even if\n",
    "they are really big"
   ]
  },
  {
   "cell_type": "code",
   "execution_count": 57,
   "id": "e3a1ec4d",
   "metadata": {},
   "outputs": [
    {
     "data": {
      "text/plain": [
       "True"
      ]
     },
     "execution_count": 57,
     "metadata": {},
     "output_type": "execute_result"
    }
   ],
   "source": [
    "#Here the first element is true\n",
    "(0, 1, 2) < (0, 3, 4)"
   ]
  },
  {
   "cell_type": "code",
   "execution_count": 58,
   "id": "f15e6cef",
   "metadata": {},
   "outputs": [
    {
     "data": {
      "text/plain": [
       "True"
      ]
     },
     "execution_count": 58,
     "metadata": {},
     "output_type": "execute_result"
    }
   ],
   "source": [
    "#Here the Second element is True\n",
    "(0, 3, 2) < (1, 3, 4)"
   ]
  },
  {
   "cell_type": "code",
   "execution_count": 1,
   "id": "ddb0f9db",
   "metadata": {},
   "outputs": [
    {
     "data": {
      "text/plain": [
       "True"
      ]
     },
     "execution_count": 1,
     "metadata": {},
     "output_type": "execute_result"
    }
   ],
   "source": [
    "#Here the Third element is True\n",
    "(0, 1, 4) < (0, 3, 4)"
   ]
  }
 ],
 "metadata": {
  "kernelspec": {
   "display_name": "Python 3 (ipykernel)",
   "language": "python",
   "name": "python3"
  },
  "language_info": {
   "codemirror_mode": {
    "name": "ipython",
    "version": 3
   },
   "file_extension": ".py",
   "mimetype": "text/x-python",
   "name": "python",
   "nbconvert_exporter": "python",
   "pygments_lexer": "ipython3",
   "version": "3.10.2"
  }
 },
 "nbformat": 4,
 "nbformat_minor": 5
}
