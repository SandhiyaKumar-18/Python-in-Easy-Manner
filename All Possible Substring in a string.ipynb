{
 "cells": [
  {
   "cell_type": "code",
   "execution_count": 7,
   "id": "d95639ea",
   "metadata": {},
   "outputs": [
    {
     "name": "stdout",
     "output_type": "stream",
     "text": [
      "chamipons\n",
      "All Substring of Strings are:['c', 'ch', 'cha', 'cham', 'chami', 'chamip', 'chamipo', 'chamipon', 'chamipons', 'h', 'ha', 'ham', 'hami', 'hamip', 'hamipo', 'hamipon', 'hamipons', 'a', 'am', 'ami', 'amip', 'amipo', 'amipon', 'amipons', 'm', 'mi', 'mip', 'mipo', 'mipon', 'mipons', 'i', 'ip', 'ipo', 'ipon', 'ipons', 'p', 'po', 'pon', 'pons', 'o', 'on', 'ons', 'n', 'ns', 's']\n"
     ]
    }
   ],
   "source": [
    "#Finding all Possibles Substrings\n",
    "from itertools import combinations\n",
    "\n",
    "string = input()\n",
    "\n",
    "all_possible_strings = [string[x:y] for x,y in combinations(range(len(string)+1),r=2)]\n",
    "\n",
    "\n",
    "print(\"All Substring of Strings are:\"+str(all_possible_strings))\n",
    "    "
   ]
  },
  {
   "cell_type": "code",
   "execution_count": null,
   "id": "5423c537",
   "metadata": {},
   "outputs": [],
   "source": []
  }
 ],
 "metadata": {
  "kernelspec": {
   "display_name": "Python 3 (ipykernel)",
   "language": "python",
   "name": "python3"
  },
  "language_info": {
   "codemirror_mode": {
    "name": "ipython",
    "version": 3
   },
   "file_extension": ".py",
   "mimetype": "text/x-python",
   "name": "python",
   "nbconvert_exporter": "python",
   "pygments_lexer": "ipython3",
   "version": "3.10.2"
  }
 },
 "nbformat": 4,
 "nbformat_minor": 5
}
